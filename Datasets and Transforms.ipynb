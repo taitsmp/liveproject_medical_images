{
 "cells": [
  {
   "cell_type": "markdown",
   "metadata": {},
   "source": [
    "####Steps \n",
    "\n",
    "\n",
    "1. Create a function that takes a **tuple of two images** and returns a tuple of the same two cropped (or, equivalently, a patch from the) images, where the cropped images are of the same **randomly determined location**.\n",
    "\n",
    "2. Verify that this was implemented correctly by visualizing the output images as in the previous module.  Create a class that inherits from **Dataset** to handle the NIfTI files. Implement the following methods:\n",
    "\n",
    "```\n",
    "  __init__\n",
    "  __len__\n",
    "  __getitem__\n",
    "```"
   ]
  },
  {
   "cell_type": "markdown",
   "metadata": {},
   "source": [
    "### Requirements\n",
    "\n",
    "Please show evidence that the two classes/functions work as expected. For example, output an example from your Dataset class and plot slices from the output image pair (showing that they are from the same subject and align in space). Similarly, show that the crop function actually crops the image by printing the size of the output images and plotting an image pair output by this function."
   ]
  },
  {
   "cell_type": "markdown",
   "metadata": {},
   "source": [
    "### Resources\n",
    "\n",
    "* https://liveproject.manning.com/module/103_3_1/3d-medical-image-analysis-with-pytorch/2--datasets-and-transforms/2-1--datasets-and-transforms?\n",
    "* https://pytorch.org/tutorials/beginner/data_loading_tutorial.html\n",
    "* https://livebook.manning.com/book/deep-learning-with-pytorch/chapter-10/v-13/5"
   ]
  },
  {
   "cell_type": "code",
   "execution_count": 6,
   "metadata": {},
   "outputs": [],
   "source": [
    "from torch.utils.data.dataset import Dataset\n",
    "from fnmatch import fnmatch\n",
    "\n",
    "\n",
    "import os\n",
    "\n",
    "class NiftiDataset(Dataset):\n",
    "    \"\"\"\n",
    "    Extract images from the source (t1) and target (t2) directories\n",
    "     \n",
    "    Args:\n",
    "        source: path to load source from\n",
    "        target: path to load target from \n",
    "        transforms: trransforms to apply to both\n",
    "    \"\"\"\n",
    "    def __init__(self, source_dir, target_dir, transform=None):\n",
    "        \n",
    "        # look in the directory and collect pairs of items. \n",
    "        t1_files = os.listdir(source_dir)\n",
    "        t2_files = os.listdir(target_dir)\n",
    "\n",
    "        self.t1_list = [ e for e in t1_files if fnmatch(e, r'*T1_fcm.nii.gz$') ]\n",
    "        self.t2_list = [ e for e in t2_files if fnmatch(e, r'*T2_reg_fcm.nii.gz$') ]\n",
    "        \n",
    "        self.transform = transform\n",
    "        \n",
    "    def __len__(self):\n",
    "        return len(self.t1_list)\n",
    "\n",
    "    def __getitem__(self, idx):\n",
    "\n",
    "        #TODO: write code to grab each image from disk here. \n",
    "        \n",
    "        #could I run the transform on each individually?  Do I need my transform function to handle both?\n",
    "        #technically the requirements call for a transform that works on a pair of images. \n",
    "        if self.transform:\n",
    "            sample = self.transform(sample)\n",
    "        \n",
    "        pass\n",
    "\n",
    "#transform\n",
    "# https://pytorch.org/tutorials/beginner/data_loading_tutorial.html#transforms\n",
    "class RandomCrop3D:\n",
    "    \"\"\"Randomly crop randomly a 3D patch from images in an image pair.\n",
    "\n",
    "    Args:\n",
    "        output_size (tuple or int): Desired output size. If int, cube patch\n",
    "            is made.\n",
    "    \"\"\" \n",
    "\n",
    "    \n",
    "    def __init__(self, output_size):\n",
    "        assert isinstance(output_size, (int,tuple))\n",
    "        if isinstance(output_size,int):\n",
    "            self.output_size = (output_size, output_size, output_size)\n",
    "        else:\n",
    "            assert len(output_size)==3\n",
    "            self.output_size = output_size\n",
    "\n",
    "    def __call__(self, sample):\n",
    "        \n",
    "        image = sample \n",
    "        \n",
    "        #did I get the indexes right here? Might be L x H X W\n",
    "        h,w,l = image.shape[:3]\n",
    "        new_h, new_w, new_l = self.output_size\n",
    "        \n",
    "        assert new_h < h and new_w < w and new_l < l\n",
    "        \n",
    "        top   = np.random.randint(0, h - new_h)\n",
    "        left  = np.random.randint(0, w - new_w)\n",
    "        front = np.random.randint(0, l - new_l)\n",
    "        \n",
    "        image = image[top:top+new_h, left:left+new_w, front:front+new_l]\n",
    "        return image"
   ]
  },
  {
   "cell_type": "code",
   "execution_count": 1,
   "metadata": {},
   "outputs": [],
   "source": [
    "#imgs is a tuple\n",
    "#dims is the size of the image you want to crop. \n",
    "\n",
    "def random_crop(imgs, dims):\n",
    "    pass"
   ]
  },
  {
   "cell_type": "code",
   "execution_count": null,
   "metadata": {},
   "outputs": [],
   "source": []
  }
 ],
 "metadata": {
  "kernelspec": {
   "display_name": "Python 3",
   "language": "python",
   "name": "python3"
  },
  "language_info": {
   "codemirror_mode": {
    "name": "ipython",
    "version": 3
   },
   "file_extension": ".py",
   "mimetype": "text/x-python",
   "name": "python",
   "nbconvert_exporter": "python",
   "pygments_lexer": "ipython3",
   "version": "3.6.9"
  }
 },
 "nbformat": 4,
 "nbformat_minor": 2
}
