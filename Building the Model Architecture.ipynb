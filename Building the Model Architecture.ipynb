{
 "cells": [
  {
   "cell_type": "markdown",
   "metadata": {},
   "source": [
    "### Workflow\n",
    "\n",
    "1. Create a class that inherits from nn.Module and implement the following methods:\n",
    "   + `__init__` (put the convolutional blocks here)\n",
    "   + `forward` (this will take a properly formatted T1-w image as input and, once trained, output an approximate T2-w image of the same shape as the input image)\n",
    "1. Verify that the forward pass works by running an image from the training set through the network. Check that the input shape is the same as the output shape."
   ]
  },
  {
   "cell_type": "markdown",
   "metadata": {},
   "source": [
    "#### Notes\n",
    "\n",
    "* Loss function will just compare T1 and T2 images\n",
    "* You many not need a loss function here. \n",
    "* Goal is simply to send an image through a forward pass of the network. Training happens in the next module."
   ]
  },
  {
   "cell_type": "markdown",
   "metadata": {},
   "source": [
    "#### Questions\n",
    "\n",
    "* How would you reformulate this problem as a GAN?  Why would a GAN necessarily work better with less training data?\n",
    ">   Note that there are other techniques to accomplish this image transformation task (e.g., generative adversarial networks), but since we have a large set of paired data, we can use supervised techniques like we are doing here.\n",
    "* Downsample and upsample or just keep things simple and the same dimension? \n"
   ]
  },
  {
   "cell_type": "code",
   "execution_count": 1,
   "metadata": {},
   "outputs": [],
   "source": [
    "import torch\n",
    "import torch.nn as nn\n",
    "import torch.nn.functional as F"
   ]
  },
  {
   "cell_type": "code",
   "execution_count": 64,
   "metadata": {},
   "outputs": [],
   "source": [
    "### Model Architecture \n",
    "class MRConvNet(nn.Module):\n",
    "    def __init__(self, nChans=[16,1]):\n",
    "        super(MRConvNet, self).__init__()\n",
    "        self.conv1 = nn.Conv3d(1, nChans[0], 3, padding=1)\n",
    "        self.bnorm = nn.BatchNorm3d(nChans[0])\n",
    "        self.drop1 = nn.Dropout3d(p=0.3)\n",
    "        self.conv2 = nn.Conv3d(nChans[0], nChans[1], 3, padding=1)\n",
    "        \n",
    "    def forward(self, x):\n",
    "        x = F.relu(self.conv1(x))\n",
    "        x = self.bnorm(x) #some debate about whether or not to apply batchnorm before or after the nonlinearity. \n",
    "        x = self.drop1(x)\n",
    "        x = F.relu(self.conv2(x))       \n",
    "        return x\n",
    "\n"
   ]
  },
  {
   "cell_type": "code",
   "execution_count": 65,
   "metadata": {},
   "outputs": [],
   "source": [
    "### instantiate model and try out the forward() pass. \n",
    "mcn = MRConvNet()"
   ]
  },
  {
   "cell_type": "code",
   "execution_count": 66,
   "metadata": {},
   "outputs": [
    {
     "name": "stdout",
     "output_type": "stream",
     "text": [
      "<class 'numpy.ndarray'>\n",
      "(120, 120, 90)\n"
     ]
    }
   ],
   "source": [
    "# Load a raw image\n",
    "import nibabel as nib\n",
    "\n",
    "def load_mr_image(subj, ttype):\n",
    "    suff = ttype.upper()\n",
    "    if ttype == 't2': \n",
    "        suff = f'{suff}_reg'\n",
    "    return nib.load(f'./data/small/{ttype}/{subj}-{suff}_fcm.nii.gz')\n",
    "\n",
    "SUBJ = 'IXI102-HH-1416'\n",
    "\n",
    "image = load_mr_image(SUBJ, 't1')\n",
    "image_data = image.get_fdata()\n",
    "\n",
    "print(type(image_data))\n",
    "print(image_data.shape)\n"
   ]
  },
  {
   "cell_type": "code",
   "execution_count": 67,
   "metadata": {},
   "outputs": [
    {
     "name": "stdout",
     "output_type": "stream",
     "text": [
      "(90, 120, 120)\n"
     ]
    }
   ],
   "source": [
    "# Convert ND array to tensor and reshape it\n",
    "# - https://pytorch.org/docs/master/generated/torch.nn.Conv3d.html  (B x C x D x H x W)\n",
    "\n",
    "\n",
    "# nibabel image: H x W x D (depth).  Single channel. \n",
    "# torch image: D X H X W\n",
    "image_data = image_data.transpose((2, 0, 1)) #warning: not idempotent.\n",
    "print(image_data.shape)\n"
   ]
  },
  {
   "cell_type": "code",
   "execution_count": 68,
   "metadata": {},
   "outputs": [
    {
     "data": {
      "text/plain": [
       "torch.Size([1, 1, 90, 120, 120])"
      ]
     },
     "execution_count": 68,
     "metadata": {},
     "output_type": "execute_result"
    }
   ],
   "source": [
    "tensor = torch.from_numpy(image_data)\n",
    "tensor = tensor.unsqueeze(0) # add channels\n",
    "tensor = tensor.unsqueeze(0) # add batch (?)\n",
    "tensor.shape"
   ]
  },
  {
   "cell_type": "code",
   "execution_count": 69,
   "metadata": {},
   "outputs": [],
   "source": [
    "# Consider trying to load part of an image from the dataset here. "
   ]
  },
  {
   "cell_type": "code",
   "execution_count": 70,
   "metadata": {},
   "outputs": [],
   "source": [
    "#out = mcn.forward(tensor.float()) #this probably works as well. \n",
    "out = mcn(tensor.float())"
   ]
  },
  {
   "cell_type": "code",
   "execution_count": 71,
   "metadata": {},
   "outputs": [
    {
     "data": {
      "text/plain": [
       "torch.Size([1, 1, 90, 120, 120])"
      ]
     },
     "execution_count": 71,
     "metadata": {},
     "output_type": "execute_result"
    }
   ],
   "source": [
    "out.shape"
   ]
  },
  {
   "cell_type": "code",
   "execution_count": 72,
   "metadata": {},
   "outputs": [],
   "source": [
    "### Left off here\n",
    "# x - get back to 1 channel (not 16). Need to update model arch to do this. \n",
    "# x - zero pad the image (argument to Conv3d) so that you don't accidentally trim it with the kernel.\n",
    "# - build a better architecture.\n",
    "# - turn the tensor back to an image so that you can visualize it (will look random.)"
   ]
  },
  {
   "cell_type": "code",
   "execution_count": 73,
   "metadata": {},
   "outputs": [],
   "source": [
    "# https://pytorch.org/tutorials/beginner/blitz/cifar10_tutorial.html#sphx-glr-beginner-blitz-cifar10-tutorial-py\n",
    "import matplotlib.pyplot as plt\n",
    "import math\n",
    "%matplotlib inline \n",
    "\n",
    "def sigmoid(x):\n",
    "    return 1 / (1 + math.exp(-x))\n",
    "\n",
    "def imshow(img, depth):\n",
    "    #img = F.sigmoid(img) #do you care to rescale img values here?  Batchnorm should mess them up a lot. \n",
    "    npimg = img.squeeze().detach().numpy()[depth, :, :]\n",
    "    #npimg = sigmoid(npimg) * 255\n",
    "    plt.imshow(npimg)\n",
    "    plt.show()"
   ]
  },
  {
   "cell_type": "code",
   "execution_count": 74,
   "metadata": {},
   "outputs": [
    {
     "data": {
      "image/png": "[encoded data removed]",
      "text/plain": [
       "<Figure size 432x288 with 1 Axes>"
      ]
     },
     "metadata": {
      "needs_background": "light"
     },
     "output_type": "display_data"
    }
   ],
   "source": [
    "#I wonder why this doens't look more random...\n",
    "imshow(out, 32)"
   ]
  },
  {
   "cell_type": "code",
   "execution_count": null,
   "metadata": {},
   "outputs": [],
   "source": []
  }
 ],
 "metadata": {
  "kernelspec": {
   "display_name": "Python 3",
   "language": "python",
   "name": "python3"
  },
  "language_info": {
   "codemirror_mode": {
    "name": "ipython",
    "version": 3
   },
   "file_extension": ".py",
   "mimetype": "text/x-python",
   "name": "python",
   "nbconvert_exporter": "python",
   "pygments_lexer": "ipython3",
   "version": "3.6.9"
  }
 },
 "nbformat": 4,
 "nbformat_minor": 2
}
